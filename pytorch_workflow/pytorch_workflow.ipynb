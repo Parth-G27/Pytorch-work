{
  "cells": [
    {
      "cell_type": "markdown",
      "metadata": {
        "colab_type": "text",
        "id": "view-in-github"
      },
      "source": [
        "<a href=\"https://colab.research.google.com/github/Parth-G27/Pytorch-work/blob/main/pytorch_workflow.ipynb\" target=\"_parent\"><img src=\"https://colab.research.google.com/assets/colab-badge.svg\" alt=\"Open In Colab\"/></a>"
      ]
    },
    {
      "cell_type": "markdown",
      "metadata": {},
      "source": [
        "## PyTorch WorkFlow \n",
        "#### 1. Get Data ready\n",
        "#### 2. Build or Pick pretrained model -> Pick loss function & optimizer -> Build a training loop -> \n",
        "#### 3. Fit the model to the data (Training) and make predictions\n",
        "#### 4. Evaluate the model\n",
        "#### 5. Improve through experimentation \n",
        "#### 6. Save and relode the trained model"
      ]
    },
    {
      "cell_type": "code",
      "execution_count": 1,
      "metadata": {
        "id": "dkAITE_ibi6_"
      },
      "outputs": [],
      "source": [
        "import torch\n",
        "from torch import nn"
      ]
    },
    {
      "cell_type": "markdown",
      "metadata": {},
      "source": [
        "### Machine Learning 2 Parts\n",
        "#### 1. Get Data into numerical representation\n",
        "#### 2. Build a model  to learn patterns in that nemerical respresentation"
      ]
    },
    {
      "cell_type": "code",
      "execution_count": 2,
      "metadata": {},
      "outputs": [],
      "source": [
        "import numpy as np\n",
        "import matplotlib.pyplot as plt"
      ]
    },
    {
      "cell_type": "markdown",
      "metadata": {},
      "source": [
        "### Using linear regression formula to  make a straight line with known parameters."
      ]
    },
    {
      "cell_type": "code",
      "execution_count": 3,
      "metadata": {
        "id": "_ZXnCkcEbxpe"
      },
      "outputs": [
        {
          "data": {
            "text/plain": [
              "(tensor([[0.0000],\n",
              "         [0.0200],\n",
              "         [0.0400],\n",
              "         [0.0600],\n",
              "         [0.0800]]),\n",
              " 2,\n",
              " tensor([[0.2000],\n",
              "         [0.2100],\n",
              "         [0.2200],\n",
              "         [0.2300],\n",
              "         [0.2400]]),\n",
              " 2)"
            ]
          },
          "execution_count": 3,
          "metadata": {},
          "output_type": "execute_result"
        }
      ],
      "source": [
        "# Our known parameters are weight & bias\n",
        "weight = 0.5\n",
        "bias = 0.2\n",
        "\n",
        "# create data\n",
        "start = 0\n",
        "end = 1\n",
        "X = torch.arange(start,end,0.02).unsqueeze(dim=1)\n",
        "Y = weight*X + bias\n",
        "X[:5],X.ndim,Y[:5],Y.ndim"
      ]
    },
    {
      "cell_type": "markdown",
      "metadata": {},
      "source": [
        "#### Creating Training and Test Sets by splitting the data into the two \n",
        "##### Training 80% Test 20%"
      ]
    },
    {
      "cell_type": "code",
      "execution_count": 4,
      "metadata": {},
      "outputs": [
        {
          "data": {
            "text/plain": [
              "(40, 10, 40, 10)"
            ]
          },
          "execution_count": 4,
          "metadata": {},
          "output_type": "execute_result"
        }
      ],
      "source": [
        "train_split = int(0.8*len(X))\n",
        "X_train,Y_train = X[:train_split],Y[:train_split]\n",
        "X_test,Y_test = X[train_split:],Y[train_split:]\n",
        "len(X_train),len(X_test),len(Y_train),len(Y_test)"
      ]
    },
    {
      "cell_type": "code",
      "execution_count": 5,
      "metadata": {},
      "outputs": [],
      "source": [
        "def plot_predictions(\n",
        "        train_data = X_train,\n",
        "        train_labels = Y_train,\n",
        "        test_data = X_test,\n",
        "        test_labels = Y_test,\n",
        "        predictions=None):\n",
        "    \n",
        "    plt.scatter(train_data,train_labels, c=\"b\", s=5, label=\"Training Data\")\n",
        "    plt.scatter(test_data,test_labels,c=\"g\",s=5,label=\"Test Data\")\n",
        "\n",
        "    if predictions is not None:\n",
        "        plt.scatter(test_data,predictions,c=\"r\",s=5,label=\"Predictions\")\n",
        "\n",
        "    plt.legend()\n",
        "    "
      ]
    },
    {
      "cell_type": "code",
      "execution_count": 6,
      "metadata": {},
      "outputs": [
        {
          "data": {
            "image/png": "[encoded data removed]",
            "text/plain": [
              "<Figure size 640x480 with 1 Axes>"
            ]
          },
          "metadata": {},
          "output_type": "display_data"
        }
      ],
      "source": [
        "plot_predictions()"
      ]
    },
    {
      "cell_type": "markdown",
      "metadata": {},
      "source": [
        "#### Building the Model\n",
        "Learn the patterns in training data and oredict the test data \n",
        "\n",
        "What does the model do ?\n",
        "- Start with random values of weights and bias\n",
        "- Look at the training data  and adjust the random values to better represent the ideal values \n",
        "\n",
        "How does it do ? Two algorithms\n",
        "1. gradiant descent\n",
        "2. backproagation"
      ]
    },
    {
      "cell_type": "code",
      "execution_count": 7,
      "metadata": {},
      "outputs": [],
      "source": [
        "# nn is the building layer for neural network\n",
        "# Our class of model subclasses nn.Module\n",
        "class LinearRegressionModel(nn.Module):\n",
        "    def __init__(self):\n",
        "        super().__init__()\n",
        "\n",
        "        self.weights = nn.Parameter(torch.rand(1,\n",
        "                                               requires_grad=True,\n",
        "                                               dtype=torch.float))\n",
        "        \n",
        "        self.bias = nn.Parameter(torch.rand(1,\n",
        "                                            requires_grad=True,\n",
        "                                            dtype=torch.float))\n",
        "        \n",
        "        # Forward method defines the computation in the model \n",
        "    def forward(self,x:torch.Tensor)->torch.Tensor:\n",
        "        return self.weights * x +self.bias"
      ]
    },
    {
      "cell_type": "code",
      "execution_count": 8,
      "metadata": {},
      "outputs": [
        {
          "data": {
            "text/plain": [
              "[Parameter containing:\n",
              " tensor([0.6558], requires_grad=True),\n",
              " Parameter containing:\n",
              " tensor([0.3020], requires_grad=True)]"
            ]
          },
          "execution_count": 8,
          "metadata": {},
          "output_type": "execute_result"
        }
      ],
      "source": [
        "torch.manual_seed(9)\n",
        "model0 = LinearRegressionModel()\n",
        "list(model0.parameters())"
      ]
    },
    {
      "cell_type": "code",
      "execution_count": 9,
      "metadata": {},
      "outputs": [
        {
          "data": {
            "text/plain": [
              "OrderedDict([('weights', tensor([0.6558])), ('bias', tensor([0.3020]))])"
            ]
          },
          "execution_count": 9,
          "metadata": {},
          "output_type": "execute_result"
        }
      ],
      "source": [
        "model0.state_dict()"
      ]
    },
    {
      "cell_type": "code",
      "execution_count": 10,
      "metadata": {},
      "outputs": [
        {
          "data": {
            "text/plain": [
              "tensor([[0.8267],\n",
              "        [0.8398],\n",
              "        [0.8529],\n",
              "        [0.8660],\n",
              "        [0.8791],\n",
              "        [0.8922],\n",
              "        [0.9053],\n",
              "        [0.9185],\n",
              "        [0.9316],\n",
              "        [0.9447]])"
            ]
          },
          "execution_count": 10,
          "metadata": {},
          "output_type": "execute_result"
        }
      ],
      "source": [
        "with torch.inference_mode():\n",
        "    y_preds = model0(X_test)\n",
        "\n",
        "y_preds"
      ]
    },
    {
      "cell_type": "code",
      "execution_count": 11,
      "metadata": {},
      "outputs": [
        {
          "data": {
            "image/png": "[encoded data removed]",
            "text/plain": [
              "<Figure size 640x480 with 1 Axes>"
            ]
          },
          "metadata": {},
          "output_type": "display_data"
        }
      ],
      "source": [
        "plot_predictions(predictions=y_preds)"
      ]
    },
    {
      "cell_type": "code",
      "execution_count": 12,
      "metadata": {},
      "outputs": [],
      "source": [
        "# Loss function setup \n",
        "loss_fn = nn.L1Loss()\n",
        "\n",
        "# Optimizer setup\n",
        "optimizer = torch.optim.SGD(params=model0.parameters(),\n",
        "                            lr=0.01) "
      ]
    },
    {
      "cell_type": "markdown",
      "metadata": {},
      "source": [
        "(lr) Learning rate : most important hyperparameter we can set .\n",
        "\n",
        "more the lr more rapidly the parameters get changed, less the value of lr less rapidly the value of parameters chnage\n",
        "\n",
        "hyperparameter : is a parameter that we as a programmer can set ourselves, whereas parameter is the value that model sets itself"
      ]
    },
    {
      "cell_type": "code",
      "execution_count": 13,
      "metadata": {},
      "outputs": [],
      "source": [
        "# Training loop & Testing loop \n",
        "\n",
        "# An Epoch is one loop through teh data \n",
        "epochs = 10\n",
        "for epoch in range(epochs):\n",
        "    # set the model to training mode\n",
        "    model0.train() # Put model in training mode (this is the default state of a model)\n",
        "    # training mode sets all parameters that req. gradients to req. gradients\n",
        "\n",
        "    # Forward pass \n",
        "    y_pred = model0(X_train)\n",
        "    # Calculat loss \n",
        "    loss = loss_fn(y_pred, Y_train)\n",
        "    # Optimizer zero grad\n",
        "    optimizer.zero_grad()\n",
        "    # Performs backpropagation on the loss with respect to the parameters of the model \n",
        "    loss.backward()\n",
        "\n",
        "    # step the optimizer (perform gradient descent)\n",
        "    optimizer.step()\n",
        "\n",
        "    \n",
        "    model0.eval() # Turns off gradiant tracking "
      ]
    },
    {
      "cell_type": "code",
      "execution_count": null,
      "metadata": {},
      "outputs": [],
      "source": []
    }
  ],
  "metadata": {
    "colab": {
      "authorship_tag": "ABX9TyMAgcyOPwF/DDySH+TqwI/b",
      "include_colab_link": true,
      "provenance": []
    },
    "kernelspec": {
      "display_name": "PyTorchWork",
      "language": "python",
      "name": "pytorchwork"
    },
    "language_info": {
      "codemirror_mode": {
        "name": "ipython",
        "version": 3
      },
      "file_extension": ".py",
      "mimetype": "text/x-python",
      "name": "python",
      "nbconvert_exporter": "python",
      "pygments_lexer": "ipython3",
      "version": "3.9.0"
    }
  },
  "nbformat": 4,
  "nbformat_minor": 0
}
