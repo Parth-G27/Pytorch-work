{
  "cells": [
    {
      "cell_type": "markdown",
      "metadata": {
        "colab_type": "text",
        "id": "view-in-github"
      },
      "source": [
        "<a href=\"https://colab.research.google.com/github/Parth-G27/Pytorch-work/blob/main/pytorch_workflow.ipynb\" target=\"_parent\"><img src=\"https://colab.research.google.com/assets/colab-badge.svg\" alt=\"Open In Colab\"/></a>"
      ]
    },
    {
      "cell_type": "markdown",
      "metadata": {},
      "source": [
        "## PyTorch WorkFlow \n",
        "#### 1. Get Data ready\n",
        "#### 2. Build or Pick pretrained model -> Pick loss function & optimizer -> Build a training loop -> \n",
        "#### 3. Fit the model to the data (Training) and make predictions\n",
        "#### 4. Evaluate the model\n",
        "#### 5. Improve through experimentation \n",
        "#### 6. Save and relode the trained model"
      ]
    },
    {
      "cell_type": "code",
      "execution_count": 1,
      "metadata": {
        "id": "dkAITE_ibi6_"
      },
      "outputs": [],
      "source": [
        "import torch\n",
        "from torch import nn\n",
        "#import matplotlib.pyplotas as plt"
      ]
    },
    {
      "cell_type": "code",
      "execution_count": null,
      "metadata": {
        "id": "_ZXnCkcEbxpe"
      },
      "outputs": [],
      "source": []
    }
  ],
  "metadata": {
    "colab": {
      "authorship_tag": "ABX9TyMAgcyOPwF/DDySH+TqwI/b",
      "include_colab_link": true,
      "provenance": []
    },
    "kernelspec": {
      "display_name": "PyTorchWork",
      "language": "python",
      "name": "pytorchwork"
    },
    "language_info": {
      "codemirror_mode": {
        "name": "ipython",
        "version": 3
      },
      "file_extension": ".py",
      "mimetype": "text/x-python",
      "name": "python",
      "nbconvert_exporter": "python",
      "pygments_lexer": "ipython3",
      "version": "3.9.0"
    }
  },
  "nbformat": 4,
  "nbformat_minor": 0
}
