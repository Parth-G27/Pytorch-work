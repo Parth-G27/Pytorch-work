{
  "cells": [
    {
      "cell_type": "markdown",
      "metadata": {
        "colab_type": "text",
        "id": "view-in-github"
      },
      "source": [
        "<a href=\"https://colab.research.google.com/github/Parth-G27/Pytorch-work/blob/main/pytorch_workflow.ipynb\" target=\"_parent\"><img src=\"https://colab.research.google.com/assets/colab-badge.svg\" alt=\"Open In Colab\"/></a>"
      ]
    },
    {
      "cell_type": "markdown",
      "metadata": {},
      "source": [
        "## PyTorch WorkFlow \n",
        "#### 1. Get Data ready\n",
        "#### 2. Build or Pick pretrained model -> Pick loss function & optimizer -> Build a training loop -> \n",
        "#### 3. Fit the model to the data (Training) and make predictions\n",
        "#### 4. Evaluate the model\n",
        "#### 5. Improve through experimentation \n",
        "#### 6. Save and relode the trained model"
      ]
    },
    {
      "cell_type": "code",
      "execution_count": 681,
      "metadata": {
        "id": "dkAITE_ibi6_"
      },
      "outputs": [],
      "source": [
        "import torch\n",
        "from torch import nn"
      ]
    },
    {
      "cell_type": "markdown",
      "metadata": {},
      "source": [
        "### Machine Learning 2 Parts\n",
        "#### 1. Get Data into numerical representation\n",
        "#### 2. Build a model  to learn patterns in that nemerical respresentation"
      ]
    },
    {
      "cell_type": "code",
      "execution_count": 682,
      "metadata": {},
      "outputs": [],
      "source": [
        "import numpy as np\n",
        "import matplotlib.pyplot as plt"
      ]
    },
    {
      "cell_type": "markdown",
      "metadata": {},
      "source": [
        "### Using linear regression formula to  make a straight line with known parameters."
      ]
    },
    {
      "cell_type": "code",
      "execution_count": 683,
      "metadata": {
        "id": "_ZXnCkcEbxpe"
      },
      "outputs": [
        {
          "data": {
            "text/plain": [
              "(tensor([[0.0000],\n",
              "         [0.0200],\n",
              "         [0.0400],\n",
              "         [0.0600],\n",
              "         [0.0800]]),\n",
              " 2,\n",
              " tensor([[0.2000],\n",
              "         [0.2100],\n",
              "         [0.2200],\n",
              "         [0.2300],\n",
              "         [0.2400]]),\n",
              " 2)"
            ]
          },
          "execution_count": 683,
          "metadata": {},
          "output_type": "execute_result"
        }
      ],
      "source": [
        "# Our known parameters are weight & bias\n",
        "weight = 0.5\n",
        "bias = 0.2\n",
        "\n",
        "# create data\n",
        "start = 0\n",
        "end = 1\n",
        "X = torch.arange(start,end,0.02).unsqueeze(dim=1)\n",
        "Y = weight*X + bias\n",
        "X[:5],X.ndim,Y[:5],Y.ndim"
      ]
    },
    {
      "cell_type": "markdown",
      "metadata": {},
      "source": [
        "#### Creating Training and Test Sets by splitting the data into the two \n",
        "##### Training 80% Test 20%"
      ]
    },
    {
      "cell_type": "code",
      "execution_count": 684,
      "metadata": {},
      "outputs": [
        {
          "data": {
            "text/plain": [
              "(40, 10, 40, 10)"
            ]
          },
          "execution_count": 684,
          "metadata": {},
          "output_type": "execute_result"
        }
      ],
      "source": [
        "train_split = int(0.8*len(X))\n",
        "X_train,Y_train = X[:train_split],Y[:train_split]\n",
        "X_test,Y_test = X[train_split:],Y[train_split:]\n",
        "len(X_train),len(X_test),len(Y_train),len(Y_test)"
      ]
    },
    {
      "cell_type": "code",
      "execution_count": 685,
      "metadata": {},
      "outputs": [],
      "source": [
        "def plot_predictions(\n",
        "        train_data = X_train,\n",
        "        train_labels = Y_train,\n",
        "        test_data = X_test,\n",
        "        test_labels = Y_test,\n",
        "        predictions=None):\n",
        "    \n",
        "    plt.scatter(train_data,train_labels, c=\"b\", s=5, label=\"Training Data\")\n",
        "    plt.scatter(test_data,test_labels,c=\"g\",s=5,label=\"Test Data\")\n",
        "\n",
        "    if predictions is not None:\n",
        "        plt.scatter(test_data,predictions,c=\"r\",s=5,label=\"Predictions\")\n",
        "\n",
        "    plt.legend()\n",
        "    "
      ]
    },
    {
      "cell_type": "code",
      "execution_count": 686,
      "metadata": {},
      "outputs": [
        {
          "data": {
            "image/png": "[encoded data removed]",
            "text/plain": [
              "<Figure size 640x480 with 1 Axes>"
            ]
          },
          "metadata": {},
          "output_type": "display_data"
        }
      ],
      "source": [
        "plot_predictions()"
      ]
    },
    {
      "cell_type": "markdown",
      "metadata": {},
      "source": [
        "#### Building the Model\n",
        "Learn the patterns in training data and oredict the test data \n",
        "\n",
        "What does the model do ?\n",
        "- Start with random values of weights and bias\n",
        "- Look at the training data  and adjust the random values to better represent the ideal values \n",
        "\n",
        "How does it do ? Two algorithms\n",
        "1. gradiant descent\n",
        "2. backproagation"
      ]
    },
    {
      "cell_type": "code",
      "execution_count": 687,
      "metadata": {},
      "outputs": [],
      "source": [
        "# nn is the building layer for neural network\n",
        "# Our class of model subclasses nn.Module\n",
        "class LinearRegressionModel(nn.Module):\n",
        "    def __init__(self):\n",
        "        super().__init__()\n",
        "\n",
        "        self.weights = nn.Parameter(torch.rand(1,\n",
        "                                               requires_grad=True,\n",
        "                                               dtype=torch.float))\n",
        "        \n",
        "        self.bias = nn.Parameter(torch.rand(1,\n",
        "                                            requires_grad=True,\n",
        "                                            dtype=torch.float))\n",
        "        \n",
        "        # Forward method defines the computation in the model \n",
        "    def forward(self,x:torch.Tensor)->torch.Tensor:\n",
        "        return self.weights * x +self.bias"
      ]
    },
    {
      "cell_type": "code",
      "execution_count": 688,
      "metadata": {},
      "outputs": [
        {
          "data": {
            "text/plain": [
              "[Parameter containing:\n",
              " tensor([0.8823], requires_grad=True),\n",
              " Parameter containing:\n",
              " tensor([0.9150], requires_grad=True)]"
            ]
          },
          "execution_count": 688,
          "metadata": {},
          "output_type": "execute_result"
        }
      ],
      "source": [
        "torch.manual_seed(42)\n",
        "model0 = LinearRegressionModel()\n",
        "list(model0.parameters())"
      ]
    },
    {
      "cell_type": "code",
      "execution_count": 689,
      "metadata": {},
      "outputs": [
        {
          "data": {
            "text/plain": [
              "OrderedDict([('weights', tensor([0.8823])), ('bias', tensor([0.9150]))])"
            ]
          },
          "execution_count": 689,
          "metadata": {},
          "output_type": "execute_result"
        }
      ],
      "source": [
        "model0.state_dict()"
      ]
    },
    {
      "cell_type": "code",
      "execution_count": 690,
      "metadata": {},
      "outputs": [
        {
          "data": {
            "text/plain": [
              "tensor([[1.6208],\n",
              "        [1.6385],\n",
              "        [1.6561],\n",
              "        [1.6738],\n",
              "        [1.6914],\n",
              "        [1.7090],\n",
              "        [1.7267],\n",
              "        [1.7443],\n",
              "        [1.7620],\n",
              "        [1.7796]])"
            ]
          },
          "execution_count": 690,
          "metadata": {},
          "output_type": "execute_result"
        }
      ],
      "source": [
        "with torch.inference_mode():\n",
        "    y_preds = model0(X_test)\n",
        "\n",
        "y_preds"
      ]
    },
    {
      "cell_type": "code",
      "execution_count": 691,
      "metadata": {},
      "outputs": [
        {
          "data": {
            "image/png": "[encoded data removed]",
            "text/plain": [
              "<Figure size 640x480 with 1 Axes>"
            ]
          },
          "metadata": {},
          "output_type": "display_data"
        }
      ],
      "source": [
        "plot_predictions(predictions=y_preds)"
      ]
    },
    {
      "cell_type": "code",
      "execution_count": 692,
      "metadata": {},
      "outputs": [],
      "source": [
        "# Loss function setup \n",
        "loss_fn = nn.L1Loss()\n",
        "\n",
        "# Optimizer setup\n",
        "optimizer = torch.optim.SGD(params=model0.parameters(),\n",
        "                            lr=0.01) "
      ]
    },
    {
      "cell_type": "markdown",
      "metadata": {},
      "source": [
        "(lr) Learning rate : most important hyperparameter we can set .\n",
        "\n",
        "more the lr more rapidly the parameters get changed, less the value of lr less rapidly the value of parameters chnage\n",
        "\n",
        "hyperparameter : is a parameter that we as a programmer can set ourselves, whereas parameter is the value that model sets itself"
      ]
    },
    {
      "cell_type": "code",
      "execution_count": 703,
      "metadata": {},
      "outputs": [
        {
          "name": "stdout",
          "output_type": "stream",
          "text": [
            "Epoch :0\n",
            "Loss : 0.002812338527292013\n",
            "Epoch : 0 | loss : 0.002812338527292013 | test Loss : 0.007058781571686268\n",
            "OrderedDict([('weights', tensor([0.5033])), ('bias', tensor([0.1900]))])\n",
            "Epoch :1\n",
            "Loss : 0.008708667941391468\n",
            "Epoch :2\n",
            "Loss : 0.002812338527292013\n",
            "Epoch :3\n",
            "Loss : 0.008708667941391468\n",
            "Epoch :4\n",
            "Loss : 0.002812338527292013\n",
            "Epoch :5\n",
            "Loss : 0.008708667941391468\n",
            "Epoch :6\n",
            "Loss : 0.002812338527292013\n",
            "Epoch :7\n",
            "Loss : 0.008708667941391468\n",
            "Epoch :8\n",
            "Loss : 0.002812338527292013\n",
            "Epoch :9\n",
            "Loss : 0.008708667941391468\n",
            "Epoch :10\n",
            "Loss : 0.002812338527292013\n",
            "Epoch : 10 | loss : 0.002812338527292013 | test Loss : 0.007058781571686268\n",
            "OrderedDict([('weights', tensor([0.5033])), ('bias', tensor([0.1900]))])\n",
            "Epoch :11\n",
            "Loss : 0.008708667941391468\n",
            "Epoch :12\n",
            "Loss : 0.002812338527292013\n",
            "Epoch :13\n",
            "Loss : 0.008708667941391468\n",
            "Epoch :14\n",
            "Loss : 0.002812338527292013\n",
            "Epoch :15\n",
            "Loss : 0.008708667941391468\n",
            "Epoch :16\n",
            "Loss : 0.002812338527292013\n",
            "Epoch :17\n",
            "Loss : 0.008708667941391468\n",
            "Epoch :18\n",
            "Loss : 0.002812338527292013\n",
            "Epoch :19\n",
            "Loss : 0.008708667941391468\n",
            "Epoch :20\n",
            "Loss : 0.002812338527292013\n",
            "Epoch : 20 | loss : 0.002812338527292013 | test Loss : 0.007058781571686268\n",
            "OrderedDict([('weights', tensor([0.5033])), ('bias', tensor([0.1900]))])\n",
            "Epoch :21\n",
            "Loss : 0.008708667941391468\n",
            "Epoch :22\n",
            "Loss : 0.002812338527292013\n",
            "Epoch :23\n",
            "Loss : 0.008708667941391468\n",
            "Epoch :24\n",
            "Loss : 0.002812338527292013\n",
            "Epoch :25\n",
            "Loss : 0.008708667941391468\n",
            "Epoch :26\n",
            "Loss : 0.002812338527292013\n",
            "Epoch :27\n",
            "Loss : 0.008708667941391468\n",
            "Epoch :28\n",
            "Loss : 0.002812338527292013\n",
            "Epoch :29\n",
            "Loss : 0.008708667941391468\n",
            "Epoch :30\n",
            "Loss : 0.002812338527292013\n",
            "Epoch : 30 | loss : 0.002812338527292013 | test Loss : 0.007058781571686268\n",
            "OrderedDict([('weights', tensor([0.5033])), ('bias', tensor([0.1900]))])\n",
            "Epoch :31\n",
            "Loss : 0.008708667941391468\n",
            "Epoch :32\n",
            "Loss : 0.002812338527292013\n",
            "Epoch :33\n",
            "Loss : 0.008708667941391468\n",
            "Epoch :34\n",
            "Loss : 0.002812338527292013\n",
            "Epoch :35\n",
            "Loss : 0.008708667941391468\n",
            "Epoch :36\n",
            "Loss : 0.002812338527292013\n",
            "Epoch :37\n",
            "Loss : 0.008708667941391468\n",
            "Epoch :38\n",
            "Loss : 0.002812338527292013\n",
            "Epoch :39\n",
            "Loss : 0.008708667941391468\n",
            "Epoch :40\n",
            "Loss : 0.002812338527292013\n",
            "Epoch : 40 | loss : 0.002812338527292013 | test Loss : 0.007058781571686268\n",
            "OrderedDict([('weights', tensor([0.5033])), ('bias', tensor([0.1900]))])\n",
            "Epoch :41\n",
            "Loss : 0.008708667941391468\n",
            "Epoch :42\n",
            "Loss : 0.002812338527292013\n",
            "Epoch :43\n",
            "Loss : 0.008708667941391468\n",
            "Epoch :44\n",
            "Loss : 0.002812338527292013\n",
            "Epoch :45\n",
            "Loss : 0.008708667941391468\n",
            "Epoch :46\n",
            "Loss : 0.002812338527292013\n",
            "Epoch :47\n",
            "Loss : 0.008708667941391468\n",
            "Epoch :48\n",
            "Loss : 0.002812338527292013\n",
            "Epoch :49\n",
            "Loss : 0.008708667941391468\n",
            "Epoch :50\n",
            "Loss : 0.002812338527292013\n",
            "Epoch : 50 | loss : 0.002812338527292013 | test Loss : 0.007058781571686268\n",
            "OrderedDict([('weights', tensor([0.5033])), ('bias', tensor([0.1900]))])\n",
            "Epoch :51\n",
            "Loss : 0.008708667941391468\n",
            "Epoch :52\n",
            "Loss : 0.002812338527292013\n",
            "Epoch :53\n",
            "Loss : 0.008708667941391468\n",
            "Epoch :54\n",
            "Loss : 0.002812338527292013\n",
            "Epoch :55\n",
            "Loss : 0.008708667941391468\n",
            "Epoch :56\n",
            "Loss : 0.002812338527292013\n",
            "Epoch :57\n",
            "Loss : 0.008708667941391468\n",
            "Epoch :58\n",
            "Loss : 0.002812338527292013\n",
            "Epoch :59\n",
            "Loss : 0.008708667941391468\n",
            "Epoch :60\n",
            "Loss : 0.002812338527292013\n",
            "Epoch : 60 | loss : 0.002812338527292013 | test Loss : 0.007058781571686268\n",
            "OrderedDict([('weights', tensor([0.5033])), ('bias', tensor([0.1900]))])\n",
            "Epoch :61\n",
            "Loss : 0.008708667941391468\n",
            "Epoch :62\n",
            "Loss : 0.002812338527292013\n",
            "Epoch :63\n",
            "Loss : 0.008708667941391468\n",
            "Epoch :64\n",
            "Loss : 0.002812338527292013\n",
            "Epoch :65\n",
            "Loss : 0.008708667941391468\n",
            "Epoch :66\n",
            "Loss : 0.002812338527292013\n",
            "Epoch :67\n",
            "Loss : 0.008708667941391468\n",
            "Epoch :68\n",
            "Loss : 0.002812338527292013\n",
            "Epoch :69\n",
            "Loss : 0.008708667941391468\n",
            "Epoch :70\n",
            "Loss : 0.002812338527292013\n",
            "Epoch : 70 | loss : 0.002812338527292013 | test Loss : 0.007058781571686268\n",
            "OrderedDict([('weights', tensor([0.5033])), ('bias', tensor([0.1900]))])\n",
            "Epoch :71\n",
            "Loss : 0.008708667941391468\n",
            "Epoch :72\n",
            "Loss : 0.002812338527292013\n",
            "Epoch :73\n",
            "Loss : 0.008708667941391468\n",
            "Epoch :74\n",
            "Loss : 0.002812338527292013\n",
            "Epoch :75\n",
            "Loss : 0.008708667941391468\n",
            "Epoch :76\n",
            "Loss : 0.002812338527292013\n",
            "Epoch :77\n",
            "Loss : 0.008708667941391468\n",
            "Epoch :78\n",
            "Loss : 0.002812338527292013\n",
            "Epoch :79\n",
            "Loss : 0.008708667941391468\n",
            "Epoch :80\n",
            "Loss : 0.002812338527292013\n",
            "Epoch : 80 | loss : 0.002812338527292013 | test Loss : 0.007058781571686268\n",
            "OrderedDict([('weights', tensor([0.5033])), ('bias', tensor([0.1900]))])\n",
            "Epoch :81\n",
            "Loss : 0.008708667941391468\n",
            "Epoch :82\n",
            "Loss : 0.002812338527292013\n",
            "Epoch :83\n",
            "Loss : 0.008708667941391468\n",
            "Epoch :84\n",
            "Loss : 0.002812338527292013\n",
            "Epoch :85\n",
            "Loss : 0.008708667941391468\n",
            "Epoch :86\n",
            "Loss : 0.002812338527292013\n",
            "Epoch :87\n",
            "Loss : 0.008708667941391468\n",
            "Epoch :88\n",
            "Loss : 0.002812338527292013\n",
            "Epoch :89\n",
            "Loss : 0.008708667941391468\n",
            "Epoch :90\n",
            "Loss : 0.002812338527292013\n",
            "Epoch : 90 | loss : 0.002812338527292013 | test Loss : 0.007058781571686268\n",
            "OrderedDict([('weights', tensor([0.5033])), ('bias', tensor([0.1900]))])\n",
            "Epoch :91\n",
            "Loss : 0.008708667941391468\n",
            "Epoch :92\n",
            "Loss : 0.002812338527292013\n",
            "Epoch :93\n",
            "Loss : 0.008708667941391468\n",
            "Epoch :94\n",
            "Loss : 0.002812338527292013\n",
            "Epoch :95\n",
            "Loss : 0.008708667941391468\n",
            "Epoch :96\n",
            "Loss : 0.002812338527292013\n",
            "Epoch :97\n",
            "Loss : 0.008708667941391468\n",
            "Epoch :98\n",
            "Loss : 0.002812338527292013\n",
            "Epoch :99\n",
            "Loss : 0.008708667941391468\n"
          ]
        }
      ],
      "source": [
        "# Training loop & Testing loop \n",
        "torch.manual_seed(42)\n",
        "# An Epoch is one loop through teh data \n",
        "epochs = 100\n",
        "for epoch in range(epochs):\n",
        "    print(f\"Epoch :{epoch}\")\n",
        "    # set the model to training mode\n",
        "    model0.train() # Put model in training mode (this is the default state of a model)\n",
        "    # training mode sets all parameters that req. gradients to req. gradients\n",
        "\n",
        "    # Forward pass \n",
        "    y_pred = model0(X_train)\n",
        "    # Calculat loss \n",
        "    loss = loss_fn(y_pred, Y_train)\n",
        "    print(f\"Loss : {loss}\")\n",
        "    # Optimizer zero grad\n",
        "    optimizer.zero_grad()\n",
        "    # Performs backpropagation on the loss with respect to the parameters of the model \n",
        "    loss.backward()\n",
        "\n",
        "    # step the optimizer (perform gradient descent)\n",
        "    optimizer.step()\n",
        "\n",
        "    \n",
        "    model0.eval() # Turns off gradiant tracking \n",
        "\n",
        "    with torch.inference_mode():\n",
        "        test_pred = model0(X_test)\n",
        "        test_loss = loss_fn(test_pred,Y_test)\n",
        "\n",
        "        if epoch % 10 == 0:\n",
        "            print(f\"Epoch : {epoch} | loss : {loss} | test Loss : {test_loss}\")\n",
        "            print(model0.state_dict())\n",
        "\n",
        "    "
      ]
    },
    {
      "cell_type": "code",
      "execution_count": 704,
      "metadata": {},
      "outputs": [],
      "source": [
        "with torch.inference_mode():\n",
        "    y_pred_new = model0(X_test)"
      ]
    },
    {
      "cell_type": "code",
      "execution_count": 698,
      "metadata": {},
      "outputs": [
        {
          "data": {
            "image/png": "[encoded data removed]",
            "text/plain": [
              "<Figure size 640x480 with 1 Axes>"
            ]
          },
          "metadata": {},
          "output_type": "display_data"
        }
      ],
      "source": [
        "plot_predictions(predictions=y_preds)"
      ]
    },
    {
      "cell_type": "code",
      "execution_count": 705,
      "metadata": {},
      "outputs": [
        {
          "data": {
            "image/png": "[encoded data removed]",
            "text/plain": [
              "<Figure size 640x480 with 1 Axes>"
            ]
          },
          "metadata": {},
          "output_type": "display_data"
        }
      ],
      "source": [
        "plot_predictions(predictions=y_pred_new)"
      ]
    },
    {
      "cell_type": "code",
      "execution_count": null,
      "metadata": {},
      "outputs": [],
      "source": []
    }
  ],
  "metadata": {
    "colab": {
      "authorship_tag": "ABX9TyMAgcyOPwF/DDySH+TqwI/b",
      "include_colab_link": true,
      "provenance": []
    },
    "kernelspec": {
      "display_name": "PyTorchWork",
      "language": "python",
      "name": "pytorchwork"
    },
    "language_info": {
      "codemirror_mode": {
        "name": "ipython",
        "version": 3
      },
      "file_extension": ".py",
      "mimetype": "text/x-python",
      "name": "python",
      "nbconvert_exporter": "python",
      "pygments_lexer": "ipython3",
      "version": "3.9.0"
    }
  },
  "nbformat": 4,
  "nbformat_minor": 0
}
